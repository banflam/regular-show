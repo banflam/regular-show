{
 "cells": [
  {
   "cell_type": "markdown",
   "id": "aa162a0d-2f77-4878-8b8c-a8863a7d9a56",
   "metadata": {},
   "source": [
    "# Analyzing Regular Show data\n",
    "\n",
    "One of my favorite TV shows is the Cartoon Network classic called Regular Show. But apart from just watching it, I would actually like to learn more about it and gain some deeper insights into it. This will be a fun way to hone my programming and data analysis skills while also getting some interesting insights from it all in the process. So let's begin!\n",
    "\n",
    "**Warning: this analysis will contain spoilers**"
   ]
  },
  {
   "cell_type": "markdown",
   "id": "f918c008-cb3c-4522-80aa-aec0ab266ad7",
   "metadata": {},
   "source": [
    "# Research Questions\n",
    "\n",
    "In this analysis I will try and analyze the Regular Show episode dataset. Apart from just conducting exploratory analysis to see if I chance upon any interesting insights along the way, I will also be looking to answer the following:\n",
    "\n",
    "1. What are the most underrated Regular Show episodes, when underrated means highest IMDB score to viewership ratio (highly rated episodes that few people watched)?\n",
    "2. What are the most overrated Regular Show episodes, with the lowest IMDB score to viewership ratio (poorly rated episodes that everybody watched)?\n",
    "3. Was there any correlation between the episode writer(s) and the IMDB score (implying certain writers wrote better episodes)?\n",
    "4. Which episodes were responsible for renewed interest, even if only partially, for the series as a whole?\n",
    "5. Was the meta-analysis of the Seer from one of the very last episodes accurate?"
   ]
  }
 ],
 "metadata": {
  "kernelspec": {
   "display_name": "Python 3 (ipykernel)",
   "language": "python",
   "name": "python3"
  },
  "language_info": {
   "codemirror_mode": {
    "name": "ipython",
    "version": 3
   },
   "file_extension": ".py",
   "mimetype": "text/x-python",
   "name": "python",
   "nbconvert_exporter": "python",
   "pygments_lexer": "ipython3",
   "version": "3.13.3"
  }
 },
 "nbformat": 4,
 "nbformat_minor": 5
}
