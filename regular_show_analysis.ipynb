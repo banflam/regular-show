{
 "cells": [
  {
   "cell_type": "markdown",
   "id": "aa162a0d-2f77-4878-8b8c-a8863a7d9a56",
   "metadata": {},
   "source": [
    "# Analyzing Regular Show data\n",
    "\n",
    "One of my favorite TV shows is the Cartoon Network classic called Regular Show. But apart from just watching it, I would actually like to learn more about it and gain some deeper insights into it. This will be a fun way to hone my data analysis "
   ]
  }
 ],
 "metadata": {
  "kernelspec": {
   "display_name": "Python 3 (ipykernel)",
   "language": "python",
   "name": "python3"
  },
  "language_info": {
   "codemirror_mode": {
    "name": "ipython",
    "version": 3
   },
   "file_extension": ".py",
   "mimetype": "text/x-python",
   "name": "python",
   "nbconvert_exporter": "python",
   "pygments_lexer": "ipython3",
   "version": "3.13.3"
  }
 },
 "nbformat": 4,
 "nbformat_minor": 5
}
